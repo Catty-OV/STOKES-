{
  "nbformat": 4,
  "nbformat_minor": 0,
  "metadata": {
    "colab": {
      "provenance": []
    },
    "kernelspec": {
      "name": "python3",
      "display_name": "Python 3"
    },
    "language_info": {
      "name": "python"
    }
  },
  "cells": [
    {
      "cell_type": "markdown",
      "source": [
        "# **Importación de librerías**"
      ],
      "metadata": {
        "id": "XnNeZVhvl746"
      }
    },
    {
      "cell_type": "code",
      "source": [
        "# Importamos las librerías\n",
        "from termcolor import colored # Colores en el terminal\n"
      ],
      "metadata": {
        "id": "D3dcbuhJzsDz"
      },
      "execution_count": null,
      "outputs": []
    },
    {
      "cell_type": "markdown",
      "source": [
        "# **Calculadora de diámetro de la gota de agua**"
      ],
      "metadata": {
        "id": "5MZTQXM5l5HS"
      }
    },
    {
      "cell_type": "code",
      "execution_count": null,
      "metadata": {
        "colab": {
          "base_uri": "https://localhost:8080/"
        },
        "id": "U3zsWmtlxfYD",
        "outputId": "5a743916-4d17-4ec4-8181-8ee8d66eb830"
      },
      "outputs": [
        {
          "output_type": "stream",
          "name": "stdout",
          "text": [
            "\u001b[34mGravedad específica del petróleo:\u001b[0m \u001b[35m0.7796\u001b[0m\n",
            "\u001b[34mDiferencia de gravedades específicas:\u001b[0m \u001b[35m0.2904\u001b[0m\n",
            "\u001b[34mDiámetro de la gota de agua:\u001b[0m \u001b[35m439\u001b[0m \u001b[34mμm\u001b[0m\n"
          ]
        }
      ],
      "source": [
        "API =  50#@param {type:\"number\"} # Gravedad API del petróleo (°API)\n",
        "yw =  1.07#@param {type:\"number\"} # Gravedad específica del agua (ad.)\n",
        "μo =  10#@param {type:\"number\"} # Viscosidad del petróleo (cp)\n",
        "v = 0.010#@param {type:\"number\"} # Velocidad terminal (ft/s)\n",
        "\n",
        "# Convertimos la gravedad API del petróleo a gravedad específica\n",
        "yo = 141.5 / (131.5 + API)\n",
        "yo = round(yo, 4)\n",
        "\n",
        "# Calculamos la diferencia de gravedades específicas\n",
        "dy = yw - yo\n",
        "dy = round(dy, 4)\n",
        "\n",
        "# Calculamos el diámetro de la gota\n",
        "d = ((v * μo) / (1.78 * (10**-6) * dy))**0.5\n",
        "d = int(d)\n",
        "\n",
        "# Imprimimos el resultado\n",
        "print(colored('Gravedad específica del petróleo:', 'blue'), colored(yo, 'magenta'))\n",
        "print(colored('Diferencia de gravedades específicas:', 'blue'), colored(dy, 'magenta'))\n",
        "print(colored('Diámetro de la gota de agua:', 'blue'), colored(d, 'magenta'), colored('μm', 'blue'))\n"
      ]
    },
    {
      "cell_type": "code",
      "source": [
        "# The larger the size of a water droplet, the larger the square of its diameter and, thus, the greater its downward velocity will be. \n",
        "# That is, the bigger the droplet size, the less time it takes for the droplet to settle to the bottom of the vessel and thus the easier it is to treat the oil.\n",
        "\n",
        "# The greater the difference in density between the water droplet and the oil phase, the greater the downward velocity will be.\n",
        "# That is, the lighter the crude, the easier it is to treat the oil. \n",
        "# If the crude gravity is 10 API and the water is fresh, the settling velocity is zero, as there is no gravity difference.\n",
        "\n",
        "# The higher the temperature, the lower the viscosity of the oil and, thus, the greater the downward velocity will be. \n",
        "# That is, it is easier to treat the oil at high temperatures than at low temperatures (assuming a small effect on gravity difference due to increased temperature).\n"
      ],
      "metadata": {
        "id": "dpuLoWCRstFe"
      },
      "execution_count": null,
      "outputs": []
    }
  ]
}