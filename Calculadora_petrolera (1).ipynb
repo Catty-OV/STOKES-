{
  "nbformat": 4,
  "nbformat_minor": 0,
  "metadata": {
    "colab": {
      "provenance": []
    },
    "kernelspec": {
      "name": "python3",
      "display_name": "Python 3"
    },
    "language_info": {
      "name": "python"
    }
  },
  "cells": [
    {
      "cell_type": "markdown",
      "source": [
        "# **CALCULADORA PETROLERA**"
      ],
      "metadata": {
        "id": "RhxB4AXEc0qv"
      }
    },
    {
      "cell_type": "markdown",
      "source": [
        "# **Importación de librerías**"
      ],
      "metadata": {
        "id": "XnNeZVhvl746"
      }
    },
    {
      "cell_type": "code",
      "source": [
        "# Importamos las librerías\n",
        "\n",
        "# Librerías: Conjunto de funciones creadas por terceros para realizar las tareas que necesitemos\n",
        "# Esta librería permite imprimir los resultados del color que elijamos \n",
        "from termcolor import colored # Colores en el terminal\n"
      ],
      "metadata": {
        "id": "D3dcbuhJzsDz"
      },
      "execution_count": null,
      "outputs": []
    },
    {
      "cell_type": "markdown",
      "source": [
        "# **Versión larga (con explicación)**"
      ],
      "metadata": {
        "id": "5MZTQXM5l5HS"
      }
    },
    {
      "cell_type": "code",
      "execution_count": null,
      "metadata": {
        "colab": {
          "base_uri": "https://localhost:8080/"
        },
        "id": "U3zsWmtlxfYD",
        "outputId": "877baa46-cccb-43dc-e0c4-ef90c5b83b2d"
      },
      "outputs": [
        {
          "output_type": "stream",
          "name": "stdout",
          "text": [
            "\u001b[34mResultado:\u001b[0m \u001b[35m103.42\u001b[0m \u001b[34mbar\u001b[0m\n"
          ]
        }
      ],
      "source": [
        "# La siguiente línea crea un formulario donde podemos especificar el valor que queremos convertir, además de las unidades de entrada y de salida\n",
        "# La instrucción \"@title\" indica el título del formulario, para este caso lo llamaremos \"Unidades de presión\"\n",
        "# Los argumentos dentro de llaves sirven para indicar el comportamiento de nuestro formulario\n",
        "# \"run: auto\" indica que cada vez que cambiemos algun valor o unidad, el cálculo se va a realizar automáticamente\n",
        "# \"vertical-output: true\" indica que los resultados se van a mostrar inmediatemnte debajo del formulario\n",
        "# \"form-width: 50%\" indica que el formulario ocupará el 50% de la pantalla\n",
        "# \"display-mode: both\" indica que se mostrará tanto el código como el formulario\n",
        "\n",
        "#@title Unidades de presión { run: \"auto\", vertical-output: true, form-width: \"50%\", display-mode: \"both\" }\n",
        "\n",
        "# A continuación, definimos las variables\n",
        "# La primera variable se titula \"Valor\" y en ella se indicará el valor de presión que queremos convertir\n",
        "# El argumento dentro de llaves que dice \"type: number\" especifica que lo que se ingresara será un número\n",
        "# La segunda variable se titula \"De\" e indica las unidades en las que se encuentra el valor que hemos ingresado\n",
        "# Las opciones dentro de los corchetes son las unidades de presión y especifican que aparecerá en el listado\n",
        "# La tercera variable se titula \"A\" e indica las unidades de presión a las cuales queremos convertir\n",
        "# Las opciones dentro de los corchetes son las unidades de presión y especifican que aparecerá en el listado\n",
        "\n",
        "Valor =  1500#@param {type:\"number\"}\n",
        "De = \"psi\" #@param [\"bar\", \"psi\", \"atm\"]\n",
        "A = 'bar' #@param [\"bar\", \"psi\", \"atm\"]\n",
        "\n",
        "# Luego indicamos todos los casos posibles de conversión\n",
        "# En la primera condición especificamos los casos en los que las unidades de entrada son iguales a las de salida\n",
        "# Para este caso el valor \"converted\" será igual al de la variable \"Valor\", ya que no es necesario hacer ninguna conversión\n",
        "if (De == 'bar' and A == 'bar') or (De == 'psi' and A == 'psi') or (De == 'atm' and A == 'atm'):\n",
        "  converted = Valor\n",
        "# Para otras combinaciones de unidades, el valor \"converted\" será igual al valor de la variable \"Valor\" multiplicado por el factor de conversión\n",
        "elif De == 'bar' and A == 'psi':\n",
        "  converted = Valor * 14.5038\n",
        "elif De == 'bar' and A == 'atm':\n",
        "  converted = Valor * 0.986923\n",
        "elif De == 'psi' and A == 'bar':\n",
        "  converted = Valor * 0.0689476\n",
        "elif De == 'psi' and A == 'atm':\n",
        "  converted = Valor * 0.068046\n",
        "elif De == 'atm' and A == 'psi':\n",
        "  converted = Valor * 14.6959\n",
        "elif De == 'atm' and A == 'bar':\n",
        "  converted = Valor * 1.01325\n",
        "\n",
        "# Redondeamos el resultado a 2 decimales\n",
        "converted = round(converted, 2)\n",
        "\n",
        "# Imprimimos el resultado\n",
        "print(colored('Resultado:', 'blue'), colored(converted, 'magenta'), colored(A, 'blue'))\n"
      ]
    },
    {
      "cell_type": "markdown",
      "source": [
        "# **Versión reducida (sin comentarios)**"
      ],
      "metadata": {
        "id": "oXJ9Dft7lpnU"
      }
    },
    {
      "cell_type": "code",
      "source": [
        "#@title Unidades de presión { run: \"auto\", vertical-output: true, form-width: \"50%\", display-mode: \"both\" }\n",
        "\n",
        "Valor =  1200#@param {type:\"number\"}\n",
        "De = \"psi\" #@param [\"bar\", \"psi\", \"atm\"]\n",
        "A = 'bar' #@param [\"bar\", \"psi\", \"atm\"]\n",
        "\n",
        "if (De == 'bar' and A == 'bar') or (De == 'psi' and A == 'psi') or (De == 'atm' and A == 'atm'):\n",
        "  converted = Valor\n",
        "elif De == 'bar' and A == 'psi':\n",
        "  converted = Valor * 14.5038\n",
        "elif De == 'bar' and A == 'atm':\n",
        "  converted = Valor * 0.986923\n",
        "elif De == 'psi' and A == 'bar':\n",
        "  converted = Valor * 0.0689476\n",
        "elif De == 'psi' and A == 'atm':\n",
        "  converted = Valor * 0.068046\n",
        "elif De == 'atm' and A == 'psi':\n",
        "  converted = Valor * 14.6959\n",
        "elif De == 'atm' and A == 'bar':\n",
        "  converted = Valor * 1.01325\n",
        "\n",
        "converted = round(converted, 2)\n",
        "\n",
        "print(colored('Resultado:', 'blue'), colored(converted, 'magenta'), colored(A, 'blue'))\n"
      ],
      "metadata": {
        "colab": {
          "base_uri": "https://localhost:8080/"
        },
        "id": "4y8BJbsKlr0i",
        "outputId": "bd5ecf75-d1a1-49e8-9bf0-81e432e64805"
      },
      "execution_count": null,
      "outputs": [
        {
          "output_type": "stream",
          "name": "stdout",
          "text": [
            "\u001b[34mResultado:\u001b[0m \u001b[35m82.74\u001b[0m \u001b[34mbar\u001b[0m\n"
          ]
        }
      ]
    },
    {
      "cell_type": "markdown",
      "source": [
        "# **Otra calculadora (unidades de caudal)**"
      ],
      "metadata": {
        "id": "EQT04qQAlyc5"
      }
    },
    {
      "cell_type": "code",
      "source": [
        "#@title Unidades de caudal { run: \"auto\", vertical-output: true, form-width: \"50%\", display-mode: \"both\" }\n",
        "\n",
        "Valor = 170 #@param {type:\"number\"}\n",
        "De = 'bbl/d' #@param [\"bbl/d\", \"ft3/d\", \"m3/d\"]\n",
        "A = 'ft3/d' #@param [\"bbl/d\", \"ft3/d\", \"m3/d\"]\n",
        "\n",
        "if (De == 'bbl/d' and A == 'bbl/d') or (De == 'ft3/d' and A == 'ft3/d') or (De == 'm3/d' and A == 'm3/d'):\n",
        "  converted = Valor\n",
        "elif De == 'bbl/d' and A == 'ft3/d':\n",
        "  converted = Valor * 5.6146\n",
        "elif De == 'bbl/d' and A == 'm3/d':\n",
        "  converted = Valor * 0.1590\n",
        "elif De == 'ft3/d' and A == 'bbl/d':\n",
        "  converted = Valor * 1/5.6146\n",
        "elif De == 'ft3/d' and A == 'm3/d':\n",
        "  converted = Valor * 0.0283168\n",
        "elif De == 'm3/d' and A == 'ft3/d':\n",
        "  converted = Valor * 1/0.0283168\n",
        "elif De == 'm3/d' and A == 'bbl/d':\n",
        "  converted = Valor * 1/0.1590\n",
        "\n",
        "# Redondeamos el resultado a 2 decimales\n",
        "converted = round(converted, 2)\n",
        "\n",
        "# Imprimimos el resultado\n",
        "print(colored('Resultado:', 'blue'), colored(converted, 'magenta'), colored(A, 'blue'))\n"
      ],
      "metadata": {
        "colab": {
          "base_uri": "https://localhost:8080/"
        },
        "id": "ePcfiG3L29xV",
        "outputId": "30f072e6-2e0f-4f81-b3fc-8cb171c62fac"
      },
      "execution_count": null,
      "outputs": [
        {
          "output_type": "stream",
          "name": "stdout",
          "text": [
            "\u001b[34mResultado:\u001b[0m \u001b[35m954.48\u001b[0m \u001b[34mft3/d\u001b[0m\n"
          ]
        }
      ]
    }
  ]
}